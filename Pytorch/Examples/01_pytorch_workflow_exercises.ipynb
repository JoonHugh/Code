{
  "cells": [
    {
      "cell_type": "markdown",
      "metadata": {
        "colab_type": "text",
        "id": "view-in-github"
      },
      "source": [
        "<a href=\"https://colab.research.google.com/github/mrdbourke/pytorch-deep-learning/blob/main/extras/exercises/01_pytorch_workflow_exercises.ipynb\" target=\"_parent\"><img src=\"https://colab.research.google.com/assets/colab-badge.svg\" alt=\"Open In Colab\"/></a>"
      ]
    },
    {
      "cell_type": "markdown",
      "metadata": {
        "id": "N8LsPXZti9Sw"
      },
      "source": [
        "# 01. PyTorch Workflow Exercise Template\n",
        "\n",
        "The following is a template for the PyTorch workflow exercises.\n",
        "\n",
        "It's only starter code and it's your job to fill in the blanks.\n",
        "\n",
        "Because of the flexibility of PyTorch, there may be more than one way to answer the question.\n",
        "\n",
        "Don't worry about trying to be *right* just try writing code that suffices the question.\n",
        "\n",
        "You can see one form of [solutions on GitHub](https://github.com/mrdbourke/pytorch-deep-learning/tree/main/extras/solutions) (but try the exercises below yourself first!)."
      ]
    },
    {
      "cell_type": "code",
      "execution_count": 3,
      "metadata": {
        "id": "Glu2fM4dkNlx"
      },
      "outputs": [],
      "source": [
        "# Import necessary libraries\n",
        "import torch\n",
        "from torch import nn\n",
        "import numpy as np\n",
        "import matplotlib.pyplot as plt\n",
        "from pathlib import Path\n"
      ]
    },
    {
      "cell_type": "code",
      "execution_count": 19,
      "metadata": {
        "id": "LqKhXY26m31s"
      },
      "outputs": [
        {
          "data": {
            "text/plain": [
              "'cpu'"
            ]
          },
          "execution_count": 19,
          "metadata": {},
          "output_type": "execute_result"
        }
      ],
      "source": [
        "# Setup device-agnostic code\n",
        "device = \"cuda\" if torch.cuda.is_available() else \"cpu\"\n",
        "device"
      ]
    },
    {
      "cell_type": "markdown",
      "metadata": {
        "id": "g7HUhxCxjeBx"
      },
      "source": [
        "## 1. Create a straight line dataset using the linear regression formula (`weight * X + bias`).\n",
        "  * Set `weight=0.3` and `bias=0.9` there should be at least 100 datapoints total. \n",
        "  * Split the data into 80% training, 20% testing.\n",
        "  * Plot the training and testing data so it becomes visual.\n",
        "\n",
        "Your output of the below cell should look something like:\n",
        "```\n",
        "Number of X samples: 100\n",
        "Number of y samples: 100\n",
        "First 10 X & y samples:\n",
        "X: tensor([0.0000, 0.0100, 0.0200, 0.0300, 0.0400, 0.0500, 0.0600, 0.0700, 0.0800,\n",
        "        0.0900])\n",
        "y: tensor([0.9000, 0.9030, 0.9060, 0.9090, 0.9120, 0.9150, 0.9180, 0.9210, 0.9240,\n",
        "        0.9270])\n",
        "```\n",
        "\n",
        "Of course the numbers in `X` and `y` may be different but ideally they're created using the linear regression formula."
      ]
    },
    {
      "cell_type": "code",
      "execution_count": 36,
      "metadata": {
        "id": "KbDG5MV7jhvE"
      },
      "outputs": [
        {
          "name": "stdout",
          "output_type": "stream",
          "text": [
            "Number of X samples: 1000\n",
            "Number of y samples: 1000\n",
            "First 10 X & y samples:\n",
            "X: tensor([[0.0000],\n",
            "        [0.0010],\n",
            "        [0.0020],\n",
            "        [0.0030],\n",
            "        [0.0040],\n",
            "        [0.0050],\n",
            "        [0.0060],\n",
            "        [0.0070],\n",
            "        [0.0080],\n",
            "        [0.0090]])\n",
            "y: tensor([[0.9000],\n",
            "        [0.9003],\n",
            "        [0.9006],\n",
            "        [0.9009],\n",
            "        [0.9012],\n",
            "        [0.9015],\n",
            "        [0.9018],\n",
            "        [0.9021],\n",
            "        [0.9024],\n",
            "        [0.9027]])\n"
          ]
        }
      ],
      "source": [
        "# Create the data parameters\n",
        "weight = 0.3\n",
        "bias = 0.9\n",
        "\n",
        "start = 0\n",
        "end = 1\n",
        "stepsize = 0.001\n",
        "\n",
        "X = torch.arange(start, end, stepsize).unsqueeze(dim=1)\n",
        "\n",
        "# Make X and y using linear regression feature\n",
        "y = weight * X + bias\n",
        "\n",
        "print(f\"Number of X samples: {len(X)}\")\n",
        "print(f\"Number of y samples: {len(y)}\")\n",
        "print(f\"First 10 X & y samples:\\nX: {X[:10]}\\ny: {y[:10]}\")"
      ]
    },
    {
      "cell_type": "code",
      "execution_count": 37,
      "metadata": {
        "id": "GlwtT1djkmLw"
      },
      "outputs": [
        {
          "data": {
            "text/plain": [
              "(800, 800, 200, 200)"
            ]
          },
          "execution_count": 37,
          "metadata": {},
          "output_type": "execute_result"
        }
      ],
      "source": [
        "# Split the data into training and testing\n",
        "train_split = int(.8 * len(X))\n",
        "X_train, y_train = X[:train_split], y[:train_split]\n",
        "X_test, y_test = X[train_split:], y[train_split:]\n",
        "\n",
        "len(X_train), len(y_train), len(X_test), len(y_test)"
      ]
    },
    {
      "cell_type": "code",
      "execution_count": 38,
      "metadata": {
        "id": "29iQZFNhlYJ-"
      },
      "outputs": [
        {
          "data": {
            "image/png": "[encoded data removed]",
            "text/plain": [
              "<Figure size 1000x700 with 1 Axes>"
            ]
          },
          "metadata": {},
          "output_type": "display_data"
        }
      ],
      "source": [
        "# Plot the training and testing data \n",
        "def plot_prediction(train_data = X_train,\n",
        "                    train_labels = y_train,\n",
        "                    test_data = X_test,\n",
        "                    test_labels = y_test,\n",
        "                    predictions = None):\n",
        "\n",
        "    \"\"\"\n",
        "    plots training data, test data, and compared predictions\n",
        "    \"\"\"\n",
        "\n",
        "    plt.figure(figsize=(10, 7))\n",
        "\n",
        "    # Plot training data in green\n",
        "    plt.scatter(train_data, train_labels, c=\"g\", s=4, label=\"Training data\")\n",
        "\n",
        "    # Plot test data in yellow\n",
        "    plt.scatter(test_data, test_labels, c=\"y\", s=4, label=\"Testing data\")\n",
        "\n",
        "    # If the predictions is not none, then plot it in red\n",
        "    if predictions is not None:\n",
        "        plt.scatter(test_data, predictions, c=\"r\", label=\"Predictions\")\n",
        "\n",
        "    # Show the legens\n",
        "    plt.legend(prop={\"size\" : 14})\n",
        "    plt.show()\n",
        "\n",
        "plot_prediction(X_train, y_train, X_test, y_test)\n"
      ]
    },
    {
      "cell_type": "markdown",
      "metadata": {
        "id": "ImZoe3v8jif8"
      },
      "source": [
        "## 2. Build a PyTorch model by subclassing `nn.Module`. \n",
        "  * Inside should be a randomly initialized `nn.Parameter()` with `requires_grad=True`, one for `weights` and one for `bias`. \n",
        "  * Implement the `forward()` method to compute the linear regression function you used to create the dataset in 1. \n",
        "  * Once you've constructed the model, make an instance of it and check its `state_dict()`.\n",
        "  * **Note:** If you'd like to use `nn.Linear()` instead of `nn.Parameter()` you can."
      ]
    },
    {
      "cell_type": "code",
      "execution_count": 39,
      "metadata": {
        "id": "qzd__Y5rjtB8"
      },
      "outputs": [
        {
          "data": {
            "text/plain": [
              "(LinearRegressionModel(\n",
              "   (linear_layer): Linear(in_features=1, out_features=1, bias=True)\n",
              " ),\n",
              " OrderedDict([('linear_layer.weight', tensor([[0.7645]])),\n",
              "              ('linear_layer.bias', tensor([0.8300]))]))"
            ]
          },
          "execution_count": 39,
          "metadata": {},
          "output_type": "execute_result"
        }
      ],
      "source": [
        "# Create PyTorch linear regression model by subclassing nn.Module\n",
        "class LinearRegressionModel(nn.Module):\n",
        "    def __init__(self):\n",
        "        super().__init__()\n",
        "\n",
        "        self.linear_layer = nn.Linear(in_features=1,\n",
        "                                      out_features=1,\n",
        "                                      dtype=torch.float)\n",
        "\n",
        "        \n",
        "    def forward(self, x : torch.Tensor) -> torch.Tensor:\n",
        "        return self.linear_layer(x)\n",
        "    \n",
        "torch.manual_seed(42)\n",
        "model = LinearRegressionModel()\n",
        "\n",
        "model, model.state_dict()"
      ]
    },
    {
      "cell_type": "code",
      "execution_count": 40,
      "metadata": {
        "id": "5LdcDnmOmyQ2"
      },
      "outputs": [
        {
          "data": {
            "text/plain": [
              "device(type='cpu')"
            ]
          },
          "execution_count": 40,
          "metadata": {},
          "output_type": "execute_result"
        }
      ],
      "source": [
        "# Instantiate the model and put it to the target device\n",
        "\n",
        "model.to(device)\n",
        "next(model.parameters()).device\n"
      ]
    },
    {
      "cell_type": "markdown",
      "metadata": {
        "id": "G6nYOrJhjtfu"
      },
      "source": [
        "## 3. Create a loss function and optimizer using `nn.L1Loss()` and `torch.optim.SGD(params, lr)` respectively. \n",
        "  * Set the learning rate of the optimizer to be 0.01 and the parameters to optimize should be the model parameters from the model you created in 2.\n",
        "  * Write a training loop to perform the appropriate training steps for 300 epochs.\n",
        "  * The training loop should test the model on the test dataset every 20 epochs."
      ]
    },
    {
      "cell_type": "code",
      "execution_count": 41,
      "metadata": {
        "id": "ltvoZ-FWjv1j"
      },
      "outputs": [],
      "source": [
        "# Create the loss function and optimizer\n",
        "loss_fn = nn.L1Loss()\n",
        "\n",
        "optimizer = torch.optim.SGD(params=model.parameters(), lr = 0.01)\n"
      ]
    },
    {
      "cell_type": "code",
      "execution_count": 42,
      "metadata": {
        "id": "xpE83NvNnkdV"
      },
      "outputs": [
        {
          "name": "stdout",
          "output_type": "stream",
          "text": [
            "Epoch: 0 | Train loss: 0.129 | Test loss: 0.338\n",
            "Epoch: 20 | Train loss: 0.082 | Test loss: 0.219\n",
            "Epoch: 40 | Train loss: 0.072 | Test loss: 0.174\n",
            "Epoch: 60 | Train loss: 0.065 | Test loss: 0.152\n",
            "Epoch: 80 | Train loss: 0.058 | Test loss: 0.136\n",
            "Epoch: 100 | Train loss: 0.051 | Test loss: 0.119\n",
            "Epoch: 120 | Train loss: 0.044 | Test loss: 0.103\n",
            "Epoch: 140 | Train loss: 0.038 | Test loss: 0.087\n",
            "Epoch: 160 | Train loss: 0.031 | Test loss: 0.071\n",
            "Epoch: 180 | Train loss: 0.024 | Test loss: 0.055\n",
            "Epoch: 200 | Train loss: 0.017 | Test loss: 0.039\n",
            "Epoch: 220 | Train loss: 0.010 | Test loss: 0.023\n",
            "Epoch: 240 | Train loss: 0.003 | Test loss: 0.007\n",
            "Epoch: 260 | Train loss: 0.002 | Test loss: 0.013\n",
            "Epoch: 280 | Train loss: 0.002 | Test loss: 0.013\n"
          ]
        }
      ],
      "source": [
        "# Training loop\n",
        "\n",
        "\n",
        "# Train model for 300 epochs\n",
        "epochs = 300\n",
        "\n",
        "# Send data to target device\n",
        "X_train = X_train.to(device)\n",
        "y_train = y_train.to(device)\n",
        "X_test = X_test.to(device)\n",
        "y_test = y_test.to(device)\n",
        "\n",
        "for epoch in range(epochs):\n",
        "  ### Training\n",
        "\n",
        "  # Put model in train mode\n",
        "  model.train()\n",
        "\n",
        "  # 1. Forward pass\n",
        "  y_pred = model(X_train)\n",
        "\n",
        "  # 2. Calculate loss\n",
        "  loss = loss_fn(y_pred, y_train)\n",
        "\n",
        "  # 3. Zero gradients\n",
        "  optimizer.zero_grad()\n",
        "\n",
        "  # 4. Backpropagation\n",
        "  loss.backward()\n",
        "\n",
        "  # 5. Step the optimizer\n",
        "  optimizer.step()\n",
        "\n",
        "  ### Perform testing every 20 epochs\n",
        "  if epoch % 20 == 0:\n",
        "\n",
        "    # Put model in evaluation mode and setup inference context \n",
        "    \n",
        "    model.eval()\n",
        "\n",
        "      # 1. Forward pass\n",
        "    with torch.inference_mode():\n",
        "      test_pred = model(X_test)\n",
        "        \n",
        "    # 2. Calculate test loss\n",
        "      test_loss = loss_fn(test_pred, y_test)\n",
        "\n",
        "\n",
        "    # Print out what's happening\n",
        "    print(f\"Epoch: {epoch} | Train loss: {loss:.3f} | Test loss: {test_loss:.3f}\")"
      ]
    },
    {
      "cell_type": "markdown",
      "metadata": {
        "id": "x4j4TM18jwa7"
      },
      "source": [
        "## 4. Make predictions with the trained model on the test data.\n",
        "  * Visualize these predictions against the original training and testing data (**note:** you may need to make sure the predictions are *not* on the GPU if you want to use non-CUDA-enabled libraries such as matplotlib to plot)."
      ]
    },
    {
      "cell_type": "code",
      "execution_count": 44,
      "metadata": {
        "id": "bbMPK5Qjjyx_"
      },
      "outputs": [
        {
          "data": {
            "text/plain": [
              "tensor([[1.1387],\n",
              "        [1.1390],\n",
              "        [1.1393],\n",
              "        [1.1396],\n",
              "        [1.1399],\n",
              "        [1.1402],\n",
              "        [1.1405],\n",
              "        [1.1408],\n",
              "        [1.1411],\n",
              "        [1.1414],\n",
              "        [1.1417],\n",
              "        [1.1420],\n",
              "        [1.1423],\n",
              "        [1.1426],\n",
              "        [1.1429],\n",
              "        [1.1432],\n",
              "        [1.1435],\n",
              "        [1.1438],\n",
              "        [1.1441],\n",
              "        [1.1444],\n",
              "        [1.1448],\n",
              "        [1.1451],\n",
              "        [1.1454],\n",
              "        [1.1457],\n",
              "        [1.1460],\n",
              "        [1.1463],\n",
              "        [1.1466],\n",
              "        [1.1469],\n",
              "        [1.1472],\n",
              "        [1.1475],\n",
              "        [1.1478],\n",
              "        [1.1481],\n",
              "        [1.1484],\n",
              "        [1.1487],\n",
              "        [1.1490],\n",
              "        [1.1493],\n",
              "        [1.1496],\n",
              "        [1.1499],\n",
              "        [1.1502],\n",
              "        [1.1505],\n",
              "        [1.1508],\n",
              "        [1.1511],\n",
              "        [1.1514],\n",
              "        [1.1517],\n",
              "        [1.1520],\n",
              "        [1.1523],\n",
              "        [1.1526],\n",
              "        [1.1529],\n",
              "        [1.1532],\n",
              "        [1.1535],\n",
              "        [1.1538],\n",
              "        [1.1541],\n",
              "        [1.1544],\n",
              "        [1.1547],\n",
              "        [1.1550],\n",
              "        [1.1553],\n",
              "        [1.1556],\n",
              "        [1.1560],\n",
              "        [1.1563],\n",
              "        [1.1566],\n",
              "        [1.1569],\n",
              "        [1.1572],\n",
              "        [1.1575],\n",
              "        [1.1578],\n",
              "        [1.1581],\n",
              "        [1.1584],\n",
              "        [1.1587],\n",
              "        [1.1590],\n",
              "        [1.1593],\n",
              "        [1.1596],\n",
              "        [1.1599],\n",
              "        [1.1602],\n",
              "        [1.1605],\n",
              "        [1.1608],\n",
              "        [1.1611],\n",
              "        [1.1614],\n",
              "        [1.1617],\n",
              "        [1.1620],\n",
              "        [1.1623],\n",
              "        [1.1626],\n",
              "        [1.1629],\n",
              "        [1.1632],\n",
              "        [1.1635],\n",
              "        [1.1638],\n",
              "        [1.1641],\n",
              "        [1.1644],\n",
              "        [1.1647],\n",
              "        [1.1650],\n",
              "        [1.1653],\n",
              "        [1.1656],\n",
              "        [1.1659],\n",
              "        [1.1662],\n",
              "        [1.1665],\n",
              "        [1.1668],\n",
              "        [1.1672],\n",
              "        [1.1675],\n",
              "        [1.1678],\n",
              "        [1.1681],\n",
              "        [1.1684],\n",
              "        [1.1687],\n",
              "        [1.1690],\n",
              "        [1.1693],\n",
              "        [1.1696],\n",
              "        [1.1699],\n",
              "        [1.1702],\n",
              "        [1.1705],\n",
              "        [1.1708],\n",
              "        [1.1711],\n",
              "        [1.1714],\n",
              "        [1.1717],\n",
              "        [1.1720],\n",
              "        [1.1723],\n",
              "        [1.1726],\n",
              "        [1.1729],\n",
              "        [1.1732],\n",
              "        [1.1735],\n",
              "        [1.1738],\n",
              "        [1.1741],\n",
              "        [1.1744],\n",
              "        [1.1747],\n",
              "        [1.1750],\n",
              "        [1.1753],\n",
              "        [1.1756],\n",
              "        [1.1759],\n",
              "        [1.1762],\n",
              "        [1.1765],\n",
              "        [1.1768],\n",
              "        [1.1771],\n",
              "        [1.1774],\n",
              "        [1.1777],\n",
              "        [1.1780],\n",
              "        [1.1784],\n",
              "        [1.1787],\n",
              "        [1.1790],\n",
              "        [1.1793],\n",
              "        [1.1796],\n",
              "        [1.1799],\n",
              "        [1.1802],\n",
              "        [1.1805],\n",
              "        [1.1808],\n",
              "        [1.1811],\n",
              "        [1.1814],\n",
              "        [1.1817],\n",
              "        [1.1820],\n",
              "        [1.1823],\n",
              "        [1.1826],\n",
              "        [1.1829],\n",
              "        [1.1832],\n",
              "        [1.1835],\n",
              "        [1.1838],\n",
              "        [1.1841],\n",
              "        [1.1844],\n",
              "        [1.1847],\n",
              "        [1.1850],\n",
              "        [1.1853],\n",
              "        [1.1856],\n",
              "        [1.1859],\n",
              "        [1.1862],\n",
              "        [1.1865],\n",
              "        [1.1868],\n",
              "        [1.1871],\n",
              "        [1.1874],\n",
              "        [1.1877],\n",
              "        [1.1880],\n",
              "        [1.1883],\n",
              "        [1.1886],\n",
              "        [1.1889],\n",
              "        [1.1892],\n",
              "        [1.1896],\n",
              "        [1.1899],\n",
              "        [1.1902],\n",
              "        [1.1905],\n",
              "        [1.1908],\n",
              "        [1.1911],\n",
              "        [1.1914],\n",
              "        [1.1917],\n",
              "        [1.1920],\n",
              "        [1.1923],\n",
              "        [1.1926],\n",
              "        [1.1929],\n",
              "        [1.1932],\n",
              "        [1.1935],\n",
              "        [1.1938],\n",
              "        [1.1941],\n",
              "        [1.1944],\n",
              "        [1.1947],\n",
              "        [1.1950],\n",
              "        [1.1953],\n",
              "        [1.1956],\n",
              "        [1.1959],\n",
              "        [1.1962],\n",
              "        [1.1965],\n",
              "        [1.1968],\n",
              "        [1.1971],\n",
              "        [1.1974],\n",
              "        [1.1977],\n",
              "        [1.1980],\n",
              "        [1.1983],\n",
              "        [1.1986],\n",
              "        [1.1989]])"
            ]
          },
          "execution_count": 44,
          "metadata": {},
          "output_type": "execute_result"
        }
      ],
      "source": [
        "# Make predictions with the model\n",
        "\n",
        "model.eval()\n",
        "with torch.inference_mode():\n",
        "    prediction = model(X_test)\n",
        "\n",
        "prediction\n"
      ]
    },
    {
      "cell_type": "code",
      "execution_count": 45,
      "metadata": {
        "id": "K3BdmQaDpFo8"
      },
      "outputs": [
        {
          "data": {
            "image/png": "[encoded data removed]",
            "text/plain": [
              "<Figure size 1000x700 with 1 Axes>"
            ]
          },
          "metadata": {},
          "output_type": "display_data"
        }
      ],
      "source": [
        "# Plot the predictions (these may need to be on a specific device)\n",
        "plot_prediction(predictions=prediction)"
      ]
    },
    {
      "cell_type": "markdown",
      "metadata": {
        "id": "s2OnlMWKjzX8"
      },
      "source": [
        "## 5. Save your trained model's `state_dict()` to file.\n",
        "  * Create a new instance of your model class you made in 2. and load in the `state_dict()` you just saved to it.\n",
        "  * Perform predictions on your test data with the loaded model and confirm they match the original model predictions from 4."
      ]
    },
    {
      "cell_type": "code",
      "execution_count": 49,
      "metadata": {
        "id": "hgxhgD14qr-i"
      },
      "outputs": [
        {
          "name": "stdout",
          "output_type": "stream",
          "text": [
            "Saving model to ../models/01_exercise_model.pth...\n",
            "Saved!\n"
          ]
        }
      ],
      "source": [
        "from pathlib import Path\n",
        "\n",
        "# 1. Create models directory \n",
        "\n",
        "# 2. Create model save path \n",
        "MODEL_PATH = Path(\"../models\")\n",
        "MODEL_PATH.mkdir(parents=True, exist_ok=True)\n",
        "MODEL_NAME = \"01_exercise_model.pth\"\n",
        "MODEL_SAVE_PATH = MODEL_PATH / MODEL_NAME\n",
        "\n",
        "# 3. Save the model state dict\n",
        "print(f\"Saving model to {MODEL_SAVE_PATH}...\")\n",
        "torch.save(obj=model.state_dict(), f=MODEL_SAVE_PATH)\n",
        "print(\"Saved!\")"
      ]
    },
    {
      "cell_type": "code",
      "execution_count": 57,
      "metadata": {
        "id": "P9vTgiLRrJ7T"
      },
      "outputs": [
        {
          "name": "stdout",
          "output_type": "stream",
          "text": [
            "OrderedDict({'linear_layer.weight': tensor([[0.3027]]), 'linear_layer.bias': tensor([0.8965])})\n",
            "equal to original model state_dict()? True\n"
          ]
        }
      ],
      "source": [
        "# Create new instance of model and load saved state dict (make sure to put it on the target device)\n",
        "loaded_model = LinearRegressionModel()\n",
        "loaded_model.to(device)\n",
        "\n",
        "loaded_model.load_state_dict(torch.load(f=MODEL_SAVE_PATH))\n",
        "\n",
        "print(loaded_model.state_dict())\n",
        "print(\"equal to original model state_dict()?\", loaded_model.state_dict() == model.state_dict())"
      ]
    },
    {
      "cell_type": "code",
      "execution_count": 58,
      "metadata": {
        "id": "8UGX3VebrVtI"
      },
      "outputs": [
        {
          "name": "stdout",
          "output_type": "stream",
          "text": [
            "tensor([[True],\n",
            "        [True],\n",
            "        [True],\n",
            "        [True],\n",
            "        [True],\n",
            "        [True],\n",
            "        [True],\n",
            "        [True],\n",
            "        [True],\n",
            "        [True],\n",
            "        [True],\n",
            "        [True],\n",
            "        [True],\n",
            "        [True],\n",
            "        [True],\n",
            "        [True],\n",
            "        [True],\n",
            "        [True],\n",
            "        [True],\n",
            "        [True],\n",
            "        [True],\n",
            "        [True],\n",
            "        [True],\n",
            "        [True],\n",
            "        [True],\n",
            "        [True],\n",
            "        [True],\n",
            "        [True],\n",
            "        [True],\n",
            "        [True],\n",
            "        [True],\n",
            "        [True],\n",
            "        [True],\n",
            "        [True],\n",
            "        [True],\n",
            "        [True],\n",
            "        [True],\n",
            "        [True],\n",
            "        [True],\n",
            "        [True],\n",
            "        [True],\n",
            "        [True],\n",
            "        [True],\n",
            "        [True],\n",
            "        [True],\n",
            "        [True],\n",
            "        [True],\n",
            "        [True],\n",
            "        [True],\n",
            "        [True],\n",
            "        [True],\n",
            "        [True],\n",
            "        [True],\n",
            "        [True],\n",
            "        [True],\n",
            "        [True],\n",
            "        [True],\n",
            "        [True],\n",
            "        [True],\n",
            "        [True],\n",
            "        [True],\n",
            "        [True],\n",
            "        [True],\n",
            "        [True],\n",
            "        [True],\n",
            "        [True],\n",
            "        [True],\n",
            "        [True],\n",
            "        [True],\n",
            "        [True],\n",
            "        [True],\n",
            "        [True],\n",
            "        [True],\n",
            "        [True],\n",
            "        [True],\n",
            "        [True],\n",
            "        [True],\n",
            "        [True],\n",
            "        [True],\n",
            "        [True],\n",
            "        [True],\n",
            "        [True],\n",
            "        [True],\n",
            "        [True],\n",
            "        [True],\n",
            "        [True],\n",
            "        [True],\n",
            "        [True],\n",
            "        [True],\n",
            "        [True],\n",
            "        [True],\n",
            "        [True],\n",
            "        [True],\n",
            "        [True],\n",
            "        [True],\n",
            "        [True],\n",
            "        [True],\n",
            "        [True],\n",
            "        [True],\n",
            "        [True],\n",
            "        [True],\n",
            "        [True],\n",
            "        [True],\n",
            "        [True],\n",
            "        [True],\n",
            "        [True],\n",
            "        [True],\n",
            "        [True],\n",
            "        [True],\n",
            "        [True],\n",
            "        [True],\n",
            "        [True],\n",
            "        [True],\n",
            "        [True],\n",
            "        [True],\n",
            "        [True],\n",
            "        [True],\n",
            "        [True],\n",
            "        [True],\n",
            "        [True],\n",
            "        [True],\n",
            "        [True],\n",
            "        [True],\n",
            "        [True],\n",
            "        [True],\n",
            "        [True],\n",
            "        [True],\n",
            "        [True],\n",
            "        [True],\n",
            "        [True],\n",
            "        [True],\n",
            "        [True],\n",
            "        [True],\n",
            "        [True],\n",
            "        [True],\n",
            "        [True],\n",
            "        [True],\n",
            "        [True],\n",
            "        [True],\n",
            "        [True],\n",
            "        [True],\n",
            "        [True],\n",
            "        [True],\n",
            "        [True],\n",
            "        [True],\n",
            "        [True],\n",
            "        [True],\n",
            "        [True],\n",
            "        [True],\n",
            "        [True],\n",
            "        [True],\n",
            "        [True],\n",
            "        [True],\n",
            "        [True],\n",
            "        [True],\n",
            "        [True],\n",
            "        [True],\n",
            "        [True],\n",
            "        [True],\n",
            "        [True],\n",
            "        [True],\n",
            "        [True],\n",
            "        [True],\n",
            "        [True],\n",
            "        [True],\n",
            "        [True],\n",
            "        [True],\n",
            "        [True],\n",
            "        [True],\n",
            "        [True],\n",
            "        [True],\n",
            "        [True],\n",
            "        [True],\n",
            "        [True],\n",
            "        [True],\n",
            "        [True],\n",
            "        [True],\n",
            "        [True],\n",
            "        [True],\n",
            "        [True],\n",
            "        [True],\n",
            "        [True],\n",
            "        [True],\n",
            "        [True],\n",
            "        [True],\n",
            "        [True],\n",
            "        [True],\n",
            "        [True],\n",
            "        [True],\n",
            "        [True],\n",
            "        [True],\n",
            "        [True],\n",
            "        [True],\n",
            "        [True],\n",
            "        [True],\n",
            "        [True],\n",
            "        [True],\n",
            "        [True],\n",
            "        [True],\n",
            "        [True]])\n"
          ]
        }
      ],
      "source": [
        "# Make predictions with loaded model and compare them to the previous\n",
        "model.eval()\n",
        "with torch.inference_mode():\n",
        "    loaded_model_pred = model(X_test)\n",
        "\n",
        "    model_pred = model(X_test)\n",
        "\n",
        "    print(model_pred == loaded_model_pred)\n",
        "    "
      ]
    },
    {
      "cell_type": "code",
      "execution_count": null,
      "metadata": {},
      "outputs": [],
      "source": []
    }
  ],
  "metadata": {
    "accelerator": "GPU",
    "colab": {
      "authorship_tag": "ABX9TyNYzatJtFkfUqqdiR6rYwVL",
      "collapsed_sections": [],
      "include_colab_link": true,
      "name": "01_pytorch_workflow_exercises.ipynb",
      "provenance": []
    },
    "kernelspec": {
      "display_name": "Python 3",
      "name": "python3"
    },
    "language_info": {
      "codemirror_mode": {
        "name": "ipython",
        "version": 3
      },
      "file_extension": ".py",
      "mimetype": "text/x-python",
      "name": "python",
      "nbconvert_exporter": "python",
      "pygments_lexer": "ipython3",
      "version": "3.12.5"
    }
  },
  "nbformat": 4,
  "nbformat_minor": 0
}
